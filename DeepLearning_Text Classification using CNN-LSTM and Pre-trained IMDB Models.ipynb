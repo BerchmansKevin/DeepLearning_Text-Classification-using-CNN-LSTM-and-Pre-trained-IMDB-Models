{
 "cells": [
  {
   "cell_type": "markdown",
   "id": "662f99f8",
   "metadata": {},
   "source": [
    "### `Name : Berchmans Kevin S`"
   ]
  },
  {
   "cell_type": "markdown",
   "id": "a2060845",
   "metadata": {},
   "source": [
    "## `Text Classification using CNN-LSTM and Pre-trained IMDB Models`"
   ]
  },
  {
   "cell_type": "code",
   "execution_count": 1,
   "id": "90c404df",
   "metadata": {},
   "outputs": [
    {
     "name": "stderr",
     "output_type": "stream",
     "text": [
      "[nltk_data] Downloading package stopwords to\n",
      "[nltk_data]     C:\\Users\\online\\AppData\\Roaming\\nltk_data...\n",
      "[nltk_data]   Package stopwords is already up-to-date!\n"
     ]
    }
   ],
   "source": [
    "import tensorflow as tf \n",
    "import numpy as np\n",
    "import pandas as pd \n",
    "import matplotlib.pyplot as plt\n",
    "import nltk\n",
    "from sklearn.model_selection import train_test_split \n",
    "from tensorflow.keras.preprocessing. text import Tokenizer\n",
    "from tensorflow.keras.preprocessing.sequence import pad_sequences \n",
    "from tensorflow.keras.optimizers import RMSprop , Adam\n",
    "from keras.models import Sequential\n",
    "from keras.layers import *\n",
    "from nltk.corpus import stopwords \n",
    "nltk.download('stopwords') \n",
    "\",\".join(stopwords.words('english'))\n",
    "STOPWORDS = set(stopwords.words('english'))"
   ]
  },
  {
   "cell_type": "code",
   "execution_count": 2,
   "id": "07a8ca55",
   "metadata": {},
   "outputs": [
    {
     "data": {
      "text/html": [
       "<div>\n",
       "<style scoped>\n",
       "    .dataframe tbody tr th:only-of-type {\n",
       "        vertical-align: middle;\n",
       "    }\n",
       "\n",
       "    .dataframe tbody tr th {\n",
       "        vertical-align: top;\n",
       "    }\n",
       "\n",
       "    .dataframe thead th {\n",
       "        text-align: right;\n",
       "    }\n",
       "</style>\n",
       "<table border=\"1\" class=\"dataframe\">\n",
       "  <thead>\n",
       "    <tr style=\"text-align: right;\">\n",
       "      <th></th>\n",
       "      <th>review</th>\n",
       "      <th>sentiment</th>\n",
       "    </tr>\n",
       "  </thead>\n",
       "  <tbody>\n",
       "    <tr>\n",
       "      <th>0</th>\n",
       "      <td>One of the other reviewers has mentioned that ...</td>\n",
       "      <td>positive</td>\n",
       "    </tr>\n",
       "    <tr>\n",
       "      <th>1</th>\n",
       "      <td>A wonderful little production. &lt;br /&gt;&lt;br /&gt;The...</td>\n",
       "      <td>positive</td>\n",
       "    </tr>\n",
       "    <tr>\n",
       "      <th>2</th>\n",
       "      <td>I thought this was a wonderful way to spend ti...</td>\n",
       "      <td>positive</td>\n",
       "    </tr>\n",
       "    <tr>\n",
       "      <th>3</th>\n",
       "      <td>Basically there's a family where a little boy ...</td>\n",
       "      <td>negative</td>\n",
       "    </tr>\n",
       "    <tr>\n",
       "      <th>4</th>\n",
       "      <td>Petter Mattei's \"Love in the Time of Money\" is...</td>\n",
       "      <td>positive</td>\n",
       "    </tr>\n",
       "  </tbody>\n",
       "</table>\n",
       "</div>"
      ],
      "text/plain": [
       "                                              review sentiment\n",
       "0  One of the other reviewers has mentioned that ...  positive\n",
       "1  A wonderful little production. <br /><br />The...  positive\n",
       "2  I thought this was a wonderful way to spend ti...  positive\n",
       "3  Basically there's a family where a little boy ...  negative\n",
       "4  Petter Mattei's \"Love in the Time of Money\" is...  positive"
      ]
     },
     "execution_count": 2,
     "metadata": {},
     "output_type": "execute_result"
    }
   ],
   "source": [
    "data = pd.read_csv(\"IMDB Dataset.csv\")\n",
    "data.head()"
   ]
  },
  {
   "cell_type": "code",
   "execution_count": 3,
   "id": "30681cbb",
   "metadata": {},
   "outputs": [
    {
     "data": {
      "text/html": [
       "<div>\n",
       "<style scoped>\n",
       "    .dataframe tbody tr th:only-of-type {\n",
       "        vertical-align: middle;\n",
       "    }\n",
       "\n",
       "    .dataframe tbody tr th {\n",
       "        vertical-align: top;\n",
       "    }\n",
       "\n",
       "    .dataframe thead th {\n",
       "        text-align: right;\n",
       "    }\n",
       "</style>\n",
       "<table border=\"1\" class=\"dataframe\">\n",
       "  <thead>\n",
       "    <tr style=\"text-align: right;\">\n",
       "      <th></th>\n",
       "      <th>review</th>\n",
       "      <th>sentiment</th>\n",
       "    </tr>\n",
       "  </thead>\n",
       "  <tbody>\n",
       "    <tr>\n",
       "      <th>49995</th>\n",
       "      <td>I thought this movie did a down right good job...</td>\n",
       "      <td>positive</td>\n",
       "    </tr>\n",
       "    <tr>\n",
       "      <th>49996</th>\n",
       "      <td>Bad plot, bad dialogue, bad acting, idiotic di...</td>\n",
       "      <td>negative</td>\n",
       "    </tr>\n",
       "    <tr>\n",
       "      <th>49997</th>\n",
       "      <td>I am a Catholic taught in parochial elementary...</td>\n",
       "      <td>negative</td>\n",
       "    </tr>\n",
       "    <tr>\n",
       "      <th>49998</th>\n",
       "      <td>I'm going to have to disagree with the previou...</td>\n",
       "      <td>negative</td>\n",
       "    </tr>\n",
       "    <tr>\n",
       "      <th>49999</th>\n",
       "      <td>No one expects the Star Trek movies to be high...</td>\n",
       "      <td>negative</td>\n",
       "    </tr>\n",
       "  </tbody>\n",
       "</table>\n",
       "</div>"
      ],
      "text/plain": [
       "                                                  review sentiment\n",
       "49995  I thought this movie did a down right good job...  positive\n",
       "49996  Bad plot, bad dialogue, bad acting, idiotic di...  negative\n",
       "49997  I am a Catholic taught in parochial elementary...  negative\n",
       "49998  I'm going to have to disagree with the previou...  negative\n",
       "49999  No one expects the Star Trek movies to be high...  negative"
      ]
     },
     "execution_count": 3,
     "metadata": {},
     "output_type": "execute_result"
    }
   ],
   "source": [
    "data.tail()"
   ]
  },
  {
   "cell_type": "code",
   "execution_count": 4,
   "id": "24ca3af4",
   "metadata": {},
   "outputs": [
    {
     "data": {
      "text/plain": [
       "(50000, 2)"
      ]
     },
     "execution_count": 4,
     "metadata": {},
     "output_type": "execute_result"
    }
   ],
   "source": [
    "data.shape"
   ]
  },
  {
   "cell_type": "code",
   "execution_count": 5,
   "id": "faf56dd6",
   "metadata": {},
   "outputs": [
    {
     "data": {
      "text/plain": [
       "100000"
      ]
     },
     "execution_count": 5,
     "metadata": {},
     "output_type": "execute_result"
    }
   ],
   "source": [
    "data.size"
   ]
  },
  {
   "cell_type": "code",
   "execution_count": 6,
   "id": "50383c05",
   "metadata": {},
   "outputs": [
    {
     "name": "stdout",
     "output_type": "stream",
     "text": [
      "<class 'pandas.core.frame.DataFrame'>\n",
      "RangeIndex: 50000 entries, 0 to 49999\n",
      "Data columns (total 2 columns):\n",
      " #   Column     Non-Null Count  Dtype \n",
      "---  ------     --------------  ----- \n",
      " 0   review     50000 non-null  object\n",
      " 1   sentiment  50000 non-null  object\n",
      "dtypes: object(2)\n",
      "memory usage: 781.4+ KB\n"
     ]
    }
   ],
   "source": [
    "data.info()"
   ]
  },
  {
   "cell_type": "code",
   "execution_count": 7,
   "id": "dacc0d79",
   "metadata": {},
   "outputs": [
    {
     "data": {
      "text/html": [
       "<div>\n",
       "<style scoped>\n",
       "    .dataframe tbody tr th:only-of-type {\n",
       "        vertical-align: middle;\n",
       "    }\n",
       "\n",
       "    .dataframe tbody tr th {\n",
       "        vertical-align: top;\n",
       "    }\n",
       "\n",
       "    .dataframe thead th {\n",
       "        text-align: right;\n",
       "    }\n",
       "</style>\n",
       "<table border=\"1\" class=\"dataframe\">\n",
       "  <thead>\n",
       "    <tr style=\"text-align: right;\">\n",
       "      <th></th>\n",
       "      <th>review</th>\n",
       "      <th>sentiment</th>\n",
       "    </tr>\n",
       "  </thead>\n",
       "  <tbody>\n",
       "    <tr>\n",
       "      <th>count</th>\n",
       "      <td>50000</td>\n",
       "      <td>50000</td>\n",
       "    </tr>\n",
       "    <tr>\n",
       "      <th>unique</th>\n",
       "      <td>49582</td>\n",
       "      <td>2</td>\n",
       "    </tr>\n",
       "    <tr>\n",
       "      <th>top</th>\n",
       "      <td>Loved today's show!!! It was a variety and not...</td>\n",
       "      <td>positive</td>\n",
       "    </tr>\n",
       "    <tr>\n",
       "      <th>freq</th>\n",
       "      <td>5</td>\n",
       "      <td>25000</td>\n",
       "    </tr>\n",
       "  </tbody>\n",
       "</table>\n",
       "</div>"
      ],
      "text/plain": [
       "                                                   review sentiment\n",
       "count                                               50000     50000\n",
       "unique                                              49582         2\n",
       "top     Loved today's show!!! It was a variety and not...  positive\n",
       "freq                                                    5     25000"
      ]
     },
     "execution_count": 7,
     "metadata": {},
     "output_type": "execute_result"
    }
   ],
   "source": [
    "data.describe()"
   ]
  },
  {
   "cell_type": "code",
   "execution_count": 8,
   "id": "e5b3d669",
   "metadata": {},
   "outputs": [],
   "source": [
    "y =data['sentiment'] \n",
    "X=[] \n",
    "for review in data['review']: \n",
    "    filtered_sentence = [w.lower() for w in review.split() if not w in STOPWORDS ] \n",
    "    X.append(filtered_sentence)\n",
    "X = pd.Series(X) "
   ]
  },
  {
   "cell_type": "code",
   "execution_count": 9,
   "id": "93275e53",
   "metadata": {},
   "outputs": [],
   "source": [
    "y_tokenizer = Tokenizer() \n",
    "y_tokenizer.fit_on_texts(y) \n",
    "y_seq = np.array(y_tokenizer.texts_to_sequences (y))"
   ]
  },
  {
   "cell_type": "code",
   "execution_count": 10,
   "id": "67e192a6",
   "metadata": {},
   "outputs": [
    {
     "data": {
      "text/plain": [
       "{'<oov>': 1,\n",
       " 'i': 2,\n",
       " '/><br': 3,\n",
       " 'the': 4,\n",
       " 'movie': 5,\n",
       " 'film': 6,\n",
       " 'one': 7,\n",
       " 'like': 8,\n",
       " 'this': 9,\n",
       " 'would': 10,\n",
       " 'even': 11,\n",
       " 'good': 12,\n",
       " 'really': 13,\n",
       " 'it': 14,\n",
       " 'see': 15}"
      ]
     },
     "execution_count": 10,
     "metadata": {},
     "output_type": "execute_result"
    }
   ],
   "source": [
    "X_token = Tokenizer(num_words=5000,oov_token='<oov>') \n",
    "X_token.fit_on_texts(X) \n",
    "word_index = X_token.word_index\n",
    "X_sequence = X_token.texts_to_sequences(X) \n",
    "dict(list(word_index.items())[0:15])"
   ]
  },
  {
   "cell_type": "code",
   "execution_count": 11,
   "id": "1f867c81",
   "metadata": {},
   "outputs": [],
   "source": [
    "X_padding= pad_sequences(X_sequence, maxlen=200, padding='post') "
   ]
  },
  {
   "cell_type": "code",
   "execution_count": 12,
   "id": "1f12f51d",
   "metadata": {},
   "outputs": [
    {
     "name": "stdout",
     "output_type": "stream",
     "text": [
      "(50000, 1)\n",
      "(50000, 200)\n"
     ]
    }
   ],
   "source": [
    "print(y_seq.shape) \n",
    "print(X_padding.shape) "
   ]
  },
  {
   "cell_type": "code",
   "execution_count": 13,
   "id": "213da48f",
   "metadata": {},
   "outputs": [],
   "source": [
    "x_train,x_test,y_train,y_test = train_test_split(X_padding, y_seq,train_size=0.7)"
   ]
  },
  {
   "cell_type": "code",
   "execution_count": 14,
   "id": "1f4b51d8",
   "metadata": {},
   "outputs": [
    {
     "name": "stdout",
     "output_type": "stream",
     "text": [
      "(35000, 200) (15000, 200)\n",
      "(35000, 1) (15000, 1)\n"
     ]
    }
   ],
   "source": [
    "print(x_train.shape, x_test.shape) \n",
    "print(y_train.shape, y_test.shape)"
   ]
  },
  {
   "cell_type": "code",
   "execution_count": 15,
   "id": "494e1f67",
   "metadata": {},
   "outputs": [],
   "source": [
    "vocab_size = 5000 \n",
    "embedding_dim = 64 \n",
    "max_length = 200"
   ]
  },
  {
   "cell_type": "code",
   "execution_count": 16,
   "id": "d15b7b49",
   "metadata": {},
   "outputs": [],
   "source": [
    "model1 = Sequential() \n",
    "model1.add(Embedding(vocab_size, embedding_dim)) \n",
    "model1.add(LSTM(embedding_dim))\n",
    "model1.add(Dense(embedding_dim, activation='tanh'))\n",
    "model1.add(Dense(6,activation='softmax'))"
   ]
  },
  {
   "cell_type": "code",
   "execution_count": 17,
   "id": "8201be7b",
   "metadata": {},
   "outputs": [
    {
     "name": "stdout",
     "output_type": "stream",
     "text": [
      "Model: \"sequential\"\n",
      "_________________________________________________________________\n",
      " Layer (type)                Output Shape              Param #   \n",
      "=================================================================\n",
      " embedding (Embedding)       (None, None, 64)          320000    \n",
      "                                                                 \n",
      " lstm (LSTM)                 (None, 64)                33024     \n",
      "                                                                 \n",
      " dense (Dense)               (None, 64)                4160      \n",
      "                                                                 \n",
      " dense_1 (Dense)             (None, 6)                 390       \n",
      "                                                                 \n",
      "=================================================================\n",
      "Total params: 357,574\n",
      "Trainable params: 357,574\n",
      "Non-trainable params: 0\n",
      "_________________________________________________________________\n"
     ]
    }
   ],
   "source": [
    "model1. summary()"
   ]
  },
  {
   "cell_type": "code",
   "execution_count": 18,
   "id": "0be3d736",
   "metadata": {},
   "outputs": [],
   "source": [
    "model1.compile(optimizer='adam',loss='sparse_categorical_crossentropy',metrics=['accuracy'])"
   ]
  },
  {
   "cell_type": "code",
   "execution_count": 19,
   "id": "ced11ce4",
   "metadata": {},
   "outputs": [
    {
     "name": "stdout",
     "output_type": "stream",
     "text": [
      "Epoch 1/20\n",
      "875/875 - 25s - loss: 0.7121 - accuracy: 0.4977 - val_loss: 0.6930 - val_accuracy: 0.5016 - 25s/epoch - 28ms/step\n",
      "Epoch 2/20\n",
      "875/875 - 23s - loss: 0.6928 - accuracy: 0.5122 - val_loss: 0.6849 - val_accuracy: 0.5289 - 23s/epoch - 27ms/step\n",
      "Epoch 3/20\n",
      "875/875 - 23s - loss: 0.6497 - accuracy: 0.5792 - val_loss: 0.5435 - val_accuracy: 0.7826 - 23s/epoch - 27ms/step\n",
      "Epoch 4/20\n",
      "875/875 - 23s - loss: 0.3414 - accuracy: 0.8540 - val_loss: 0.3125 - val_accuracy: 0.8684 - 23s/epoch - 26ms/step\n",
      "Epoch 5/20\n",
      "875/875 - 23s - loss: 0.2292 - accuracy: 0.9091 - val_loss: 0.3113 - val_accuracy: 0.8699 - 23s/epoch - 26ms/step\n",
      "Epoch 6/20\n",
      "875/875 - 23s - loss: 0.1793 - accuracy: 0.9335 - val_loss: 0.3382 - val_accuracy: 0.8677 - 23s/epoch - 27ms/step\n",
      "Epoch 7/20\n",
      "875/875 - 23s - loss: 0.1416 - accuracy: 0.9520 - val_loss: 0.3637 - val_accuracy: 0.8651 - 23s/epoch - 27ms/step\n",
      "Epoch 8/20\n",
      "875/875 - 23s - loss: 0.1068 - accuracy: 0.9673 - val_loss: 0.4347 - val_accuracy: 0.8584 - 23s/epoch - 27ms/step\n",
      "Epoch 9/20\n",
      "875/875 - 23s - loss: 0.0821 - accuracy: 0.9766 - val_loss: 0.5243 - val_accuracy: 0.8569 - 23s/epoch - 27ms/step\n",
      "Epoch 10/20\n",
      "875/875 - 23s - loss: 0.0577 - accuracy: 0.9853 - val_loss: 0.5556 - val_accuracy: 0.8549 - 23s/epoch - 27ms/step\n",
      "Epoch 11/20\n",
      "875/875 - 23s - loss: 0.0503 - accuracy: 0.9872 - val_loss: 0.5904 - val_accuracy: 0.8541 - 23s/epoch - 27ms/step\n",
      "Epoch 12/20\n",
      "875/875 - 23s - loss: 0.0415 - accuracy: 0.9901 - val_loss: 0.5932 - val_accuracy: 0.8494 - 23s/epoch - 27ms/step\n",
      "Epoch 13/20\n",
      "875/875 - 23s - loss: 0.0384 - accuracy: 0.9906 - val_loss: 0.6288 - val_accuracy: 0.8486 - 23s/epoch - 27ms/step\n",
      "Epoch 14/20\n",
      "875/875 - 24s - loss: 0.0349 - accuracy: 0.9914 - val_loss: 0.6527 - val_accuracy: 0.8514 - 24s/epoch - 27ms/step\n",
      "Epoch 15/20\n",
      "875/875 - 23s - loss: 0.0300 - accuracy: 0.9933 - val_loss: 0.6769 - val_accuracy: 0.8489 - 23s/epoch - 27ms/step\n",
      "Epoch 16/20\n",
      "875/875 - 23s - loss: 0.0295 - accuracy: 0.9933 - val_loss: 0.6520 - val_accuracy: 0.8544 - 23s/epoch - 27ms/step\n",
      "Epoch 17/20\n",
      "875/875 - 24s - loss: 0.0272 - accuracy: 0.9937 - val_loss: 0.7422 - val_accuracy: 0.8539 - 24s/epoch - 27ms/step\n",
      "Epoch 18/20\n",
      "875/875 - 24s - loss: 0.0241 - accuracy: 0.9947 - val_loss: 0.7203 - val_accuracy: 0.8553 - 24s/epoch - 27ms/step\n",
      "Epoch 19/20\n",
      "875/875 - 24s - loss: 0.0221 - accuracy: 0.9954 - val_loss: 0.7452 - val_accuracy: 0.8540 - 24s/epoch - 27ms/step\n",
      "Epoch 20/20\n",
      "875/875 - 24s - loss: 0.0229 - accuracy: 0.9955 - val_loss: 0.7111 - val_accuracy: 0.8496 - 24s/epoch - 27ms/step\n"
     ]
    }
   ],
   "source": [
    "history1 = model1.fit(x_train,y_train, epochs=20, verbose=2, validation_split=0.2)"
   ]
  },
  {
   "cell_type": "code",
   "execution_count": 20,
   "id": "5bc06e6f",
   "metadata": {},
   "outputs": [
    {
     "data": {
      "image/png": "[encoded data removed]",
      "text/plain": [
       "<Figure size 432x288 with 1 Axes>"
      ]
     },
     "metadata": {
      "needs_background": "light"
     },
     "output_type": "display_data"
    }
   ],
   "source": [
    "plt.plot(history1.history['accuracy']) \n",
    "plt.plot(history1.history['val_accuracy'])\n",
    "plt.title('model accuarcy') \n",
    "plt.xlabel('accuracy') \n",
    "plt.ylabel('epoch') \n",
    "plt.legend(['train', 'validation'])\n",
    "plt.show()"
   ]
  },
  {
   "cell_type": "code",
   "execution_count": 21,
   "id": "1c47b32c",
   "metadata": {},
   "outputs": [
    {
     "data": {
      "image/png": "[encoded data removed]",
      "text/plain": [
       "<Figure size 432x288 with 1 Axes>"
      ]
     },
     "metadata": {
      "needs_background": "light"
     },
     "output_type": "display_data"
    }
   ],
   "source": [
    "plt.plot(history1.history['loss']) \n",
    "plt.plot(history1.history['val_loss'])\n",
    "\n",
    "plt.title('model loss') \n",
    "plt.xlabel('loss') \n",
    "plt.ylabel('epoch') \n",
    "plt.legend(['train', 'validation'])\n",
    "plt.show() "
   ]
  },
  {
   "cell_type": "code",
   "execution_count": 22,
   "id": "2f4d94a2",
   "metadata": {},
   "outputs": [
    {
     "name": "stdout",
     "output_type": "stream",
     "text": [
      "loss:  0.7172414064407349\n",
      "accuarcy:  0.8492000102996826\n"
     ]
    }
   ],
   "source": [
    "print(\"loss: \", model1.evaluate(x_test,y_test, verbose=0)[0]) \n",
    "print(\"accuarcy: \", model1.evaluate(x_test, y_test, verbose=0)[1]) "
   ]
  },
  {
   "cell_type": "code",
   "execution_count": 23,
   "id": "40e74322",
   "metadata": {},
   "outputs": [],
   "source": [
    "model2 = Sequential() \n",
    "model2.add(Embedding(vocab_size, embedding_dim)) \n",
    "model2.add(Conv1D(filters=32, kernel_size=5, strides=1, activation='relu'))\n",
    "model2.add(MaxPooling1D((2))) \n",
    "model2.add(LSTM(embedding_dim)) \n",
    "model2.add(Dense(128, activation= 'relu'))\n",
    "model2.add(Dense(6, activation='softmax')) \n"
   ]
  },
  {
   "cell_type": "code",
   "execution_count": 24,
   "id": "0142060d",
   "metadata": {},
   "outputs": [
    {
     "name": "stdout",
     "output_type": "stream",
     "text": [
      "Model: \"sequential_1\"\n",
      "_________________________________________________________________\n",
      " Layer (type)                Output Shape              Param #   \n",
      "=================================================================\n",
      " embedding_1 (Embedding)     (None, None, 64)          320000    \n",
      "                                                                 \n",
      " conv1d (Conv1D)             (None, None, 32)          10272     \n",
      "                                                                 \n",
      " max_pooling1d (MaxPooling1D  (None, None, 32)         0         \n",
      " )                                                               \n",
      "                                                                 \n",
      " lstm_1 (LSTM)               (None, 64)                24832     \n",
      "                                                                 \n",
      " dense_2 (Dense)             (None, 128)               8320      \n",
      "                                                                 \n",
      " dense_3 (Dense)             (None, 6)                 774       \n",
      "                                                                 \n",
      "=================================================================\n",
      "Total params: 364,198\n",
      "Trainable params: 364,198\n",
      "Non-trainable params: 0\n",
      "_________________________________________________________________\n"
     ]
    }
   ],
   "source": [
    "model2. summary()"
   ]
  },
  {
   "cell_type": "code",
   "execution_count": 25,
   "id": "a832cb7d",
   "metadata": {},
   "outputs": [],
   "source": [
    "model2.compile (optimizer='adam',loss='sparse_categorical_crossentropy', metrics=['accuracy'])"
   ]
  },
  {
   "cell_type": "code",
   "execution_count": 26,
   "id": "60190ed4",
   "metadata": {},
   "outputs": [
    {
     "name": "stdout",
     "output_type": "stream",
     "text": [
      "Epoch 1/20\n",
      "875/875 - 20s - loss: 0.7053 - accuracy: 0.5184 - val_loss: 0.5445 - val_accuracy: 0.7777 - 20s/epoch - 22ms/step\n",
      "Epoch 2/20\n",
      "875/875 - 18s - loss: 0.4370 - accuracy: 0.8076 - val_loss: 0.3425 - val_accuracy: 0.8430 - 18s/epoch - 21ms/step\n",
      "Epoch 3/20\n",
      "875/875 - 18s - loss: 0.2750 - accuracy: 0.8883 - val_loss: 0.3234 - val_accuracy: 0.8574 - 18s/epoch - 20ms/step\n",
      "Epoch 4/20\n",
      "875/875 - 18s - loss: 0.2127 - accuracy: 0.9198 - val_loss: 0.3318 - val_accuracy: 0.8654 - 18s/epoch - 20ms/step\n",
      "Epoch 5/20\n",
      "875/875 - 18s - loss: 0.1574 - accuracy: 0.9446 - val_loss: 0.3517 - val_accuracy: 0.8636 - 18s/epoch - 20ms/step\n",
      "Epoch 6/20\n",
      "875/875 - 18s - loss: 0.1053 - accuracy: 0.9680 - val_loss: 0.4484 - val_accuracy: 0.8506 - 18s/epoch - 20ms/step\n",
      "Epoch 7/20\n",
      "875/875 - 18s - loss: 0.0723 - accuracy: 0.9806 - val_loss: 0.4981 - val_accuracy: 0.8579 - 18s/epoch - 20ms/step\n",
      "Epoch 8/20\n",
      "875/875 - 18s - loss: 0.0556 - accuracy: 0.9851 - val_loss: 0.5485 - val_accuracy: 0.8537 - 18s/epoch - 20ms/step\n",
      "Epoch 9/20\n",
      "875/875 - 18s - loss: 0.0473 - accuracy: 0.9880 - val_loss: 0.6123 - val_accuracy: 0.8431 - 18s/epoch - 20ms/step\n",
      "Epoch 10/20\n",
      "875/875 - 18s - loss: 0.0347 - accuracy: 0.9918 - val_loss: 0.6113 - val_accuracy: 0.8527 - 18s/epoch - 20ms/step\n",
      "Epoch 11/20\n",
      "875/875 - 19s - loss: 0.0347 - accuracy: 0.9908 - val_loss: 0.7182 - val_accuracy: 0.8487 - 19s/epoch - 22ms/step\n",
      "Epoch 12/20\n",
      "875/875 - 19s - loss: 0.0263 - accuracy: 0.9939 - val_loss: 0.6452 - val_accuracy: 0.8501 - 19s/epoch - 22ms/step\n",
      "Epoch 13/20\n",
      "875/875 - 18s - loss: 0.0220 - accuracy: 0.9947 - val_loss: 0.7375 - val_accuracy: 0.8524 - 18s/epoch - 21ms/step\n",
      "Epoch 14/20\n",
      "875/875 - 18s - loss: 0.0232 - accuracy: 0.9943 - val_loss: 0.6702 - val_accuracy: 0.8484 - 18s/epoch - 21ms/step\n",
      "Epoch 15/20\n",
      "875/875 - 18s - loss: 0.0222 - accuracy: 0.9943 - val_loss: 0.7074 - val_accuracy: 0.8527 - 18s/epoch - 21ms/step\n",
      "Epoch 16/20\n",
      "875/875 - 18s - loss: 0.0203 - accuracy: 0.9948 - val_loss: 0.6664 - val_accuracy: 0.8544 - 18s/epoch - 21ms/step\n",
      "Epoch 17/20\n",
      "875/875 - 18s - loss: 0.0198 - accuracy: 0.9951 - val_loss: 0.7017 - val_accuracy: 0.8513 - 18s/epoch - 21ms/step\n",
      "Epoch 18/20\n",
      "875/875 - 18s - loss: 0.0149 - accuracy: 0.9964 - val_loss: 0.7163 - val_accuracy: 0.8473 - 18s/epoch - 21ms/step\n",
      "Epoch 19/20\n",
      "875/875 - 18s - loss: 0.0157 - accuracy: 0.9963 - val_loss: 0.7956 - val_accuracy: 0.8510 - 18s/epoch - 21ms/step\n",
      "Epoch 20/20\n",
      "875/875 - 18s - loss: 0.0120 - accuracy: 0.9975 - val_loss: 0.7567 - val_accuracy: 0.8509 - 18s/epoch - 21ms/step\n"
     ]
    }
   ],
   "source": [
    "history2 = model2.fit(x_train,y_train, epochs=20,validation_split=0.2, verbose=2) "
   ]
  },
  {
   "cell_type": "code",
   "execution_count": 27,
   "id": "95007638",
   "metadata": {},
   "outputs": [
    {
     "data": {
      "image/png": "[encoded data removed]",
      "text/plain": [
       "<Figure size 432x288 with 1 Axes>"
      ]
     },
     "metadata": {
      "needs_background": "light"
     },
     "output_type": "display_data"
    }
   ],
   "source": [
    "plt.plot(history2.history['accuracy']) \n",
    "plt.plot(history2.history['val_accuracy']) \n",
    "plt.title('model accuarcy') \n",
    "plt.xlabel('accuracy') \n",
    "plt.ylabel('epoch') \n",
    "plt.legend(['train', 'validation'])\n",
    "plt.show() "
   ]
  },
  {
   "cell_type": "code",
   "execution_count": 28,
   "id": "676db1f4",
   "metadata": {},
   "outputs": [
    {
     "data": {
      "image/png": "[encoded data removed]",
      "text/plain": [
       "<Figure size 432x288 with 1 Axes>"
      ]
     },
     "metadata": {
      "needs_background": "light"
     },
     "output_type": "display_data"
    }
   ],
   "source": [
    "plt.plot(history2.history['loss']) \n",
    "plt.plot(history2.history['val_loss']) \n",
    "plt.title('model loss')\n",
    "plt.xlabel('loss') \n",
    "plt.ylabel('epoch') \n",
    "plt.legend(['train', 'validation']) \n",
    "plt.show() \n"
   ]
  },
  {
   "cell_type": "code",
   "execution_count": 29,
   "id": "b1f45c3d",
   "metadata": {},
   "outputs": [
    {
     "name": "stdout",
     "output_type": "stream",
     "text": [
      "loss:  0.7827519774436951\n",
      "accuracy:  0.8493333458900452\n"
     ]
    }
   ],
   "source": [
    "score = model2.evaluate(x_test,y_test,verbose=0) \n",
    "print(\"loss: \", score[0]) \n",
    "print(\"accuracy: \", score[1])"
   ]
  },
  {
   "cell_type": "code",
   "execution_count": null,
   "id": "f058cb9d",
   "metadata": {},
   "outputs": [],
   "source": []
  }
 ],
 "metadata": {
  "kernelspec": {
   "display_name": "Python 3 (ipykernel)",
   "language": "python",
   "name": "python3"
  },
  "language_info": {
   "codemirror_mode": {
    "name": "ipython",
    "version": 3
   },
   "file_extension": ".py",
   "mimetype": "text/x-python",
   "name": "python",
   "nbconvert_exporter": "python",
   "pygments_lexer": "ipython3",
   "version": "3.9.12"
  }
 },
 "nbformat": 4,
 "nbformat_minor": 5
}
